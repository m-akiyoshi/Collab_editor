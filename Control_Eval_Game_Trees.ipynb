{
  "nbformat": 4,
  "nbformat_minor": 0,
  "metadata": {
    "colab": {
      "provenance": [],
      "include_colab_link": true
    },
    "kernelspec": {
      "name": "python3",
      "display_name": "Python 3"
    },
    "language_info": {
      "name": "python"
    }
  },
  "cells": [
    {
      "cell_type": "markdown",
      "metadata": {
        "id": "view-in-github",
        "colab_type": "text"
      },
      "source": [
        "<a href=\"https://colab.research.google.com/github/m-akiyoshi/Collab_editor/blob/master/Control_Eval_Game_Trees.ipynb\" target=\"_parent\"><img src=\"https://colab.research.google.com/assets/colab-badge.svg\" alt=\"Open In Colab\"/></a>"
      ]
    },
    {
      "cell_type": "markdown",
      "source": [
        "# AI Control Exercise: Control Eval Game Trees"
      ],
      "metadata": {
        "id": "_3SOf20ZOnvh"
      }
    },
    {
      "cell_type": "markdown",
      "source": [
        "## Intro to Control Evaluations\n",
        "\n",
        "This is a **no code** conceptual exercise which will familiarize you with red teaming in control evaluations. A control evaluation (control eval) is an adversarial game which discovers safe and useful protocols for deploying untrusted AIs: \"safe\" meaning that there is no policy that the AIs can follow which would result in catastrophe, and \"useful\" meaning that there is a policy the AIs could follow which results in high performance.\n",
        "\n",
        "**Action**: Read the body of the [original AI control paper](https://arxiv.org/abs/2312.06942), paying attention to the rules of the control evaluation and the iterative adversarial tactics that the red and blue teams explore."
      ],
      "metadata": {
        "id": "Kmr_OtpsOsDU"
      }
    },
    {
      "cell_type": "markdown",
      "source": [
        "## Game Trees\n",
        "\n",
        "One way of structuring the collection of strategies that resulted from a control eval is a [game tree](https://en.wikipedia.org/wiki/Game_tree). The root node represents the setting and rules of the game. The first layer of nodes are possible strategies the blue team could use given the rules of the game to pursue their objective. Subsequent layers alternate between red and blue strategies, each countering the strategy of its parent node. Here is a part of the game tree for the results of the original paper:\n",
        "\n",
        "- Setting: APPS\n",
        "  - <font color=\"blue\">Don’t use untrusted models</font>\n",
        "    - <font color=\"red\">Try to exploit naturally-occurring bugs in the T-produced code</font>\n",
        "  - <font color=\"blue\">Upfront auditing</font>\n",
        "    - <font color=\"red\">Rare obvious backdoors</font>\n",
        "  - <font color=\"blue\">Naive untrusted monitoring</font>\n",
        "    - <font color=\"red\">Untrusted monitor pretends not to see backdoors</font>\n",
        "      - <font color=\"blue\">Add upfront evaluation of monitor</font>"
      ],
      "metadata": {
        "id": "xrXhnh_tSe0_"
      }
    },
    {
      "cell_type": "markdown",
      "source": [
        "## Exercise 1\n",
        "\n",
        "Copy the partial game tree from above and fill it out completely. Add branches in the appropriate places for all the strategies and tactics mentioned in the results section of the paper."
      ],
      "metadata": {
        "id": "qjLsEyn4X81U"
      }
    },
    {
      "cell_type": "markdown",
      "source": [
        "********** *YOUR GAME TREE HERE* **************"
      ],
      "metadata": {
        "id": "fv9UPUhlYh81"
      }
    },
    {
      "cell_type": "markdown",
      "source": [
        "## Exercise 2\n",
        "\n",
        "Come up with at least 2 substantially different blue team protocols for the APPS backdooring setting which weren't mentioned in the paper. If you've already read other AI control papers describing other protocols, don't use those. These must be your own ideas. Remember, the goal of the blue team is to come up with a protocol with is both useful and safe against any red team strategy. Don't worry, your ideas don't have to be amazing and better than the protocols in the paper."
      ],
      "metadata": {
        "id": "rgC3TgogYoWC"
      }
    },
    {
      "cell_type": "code",
      "source": [
        "### Example: Trusted Monitoring\n",
        "Example_Protocol_Name = \"Trusted monitoring\" #@param {type:\"string\"}\n",
        "How_it_works = \"Give U the task. U generates code. T looks at the code and the task and rates how suspicious the code is. The most suspicious 2% of solutions are audited.\" #@param {type:\"string\"}\n",
        "How_is_it_useful = \"U generating code results in ~100% usefulness.\" #@param {type:\"string\"}\n",
        "How_is_it_safe = \"Having T look at all the code means that backdoors have to be difficult to spot, which is hard for an attack policy to do.\" #@param {type:\"string\"}\n"
      ],
      "metadata": {
        "id": "b8S8UgcWbmPq"
      },
      "execution_count": null,
      "outputs": []
    },
    {
      "cell_type": "code",
      "source": [
        "### Protocol 1\n",
        "Protocol_1_Name = \"\" #@param {type:\"string\"}\n",
        "How_it_works = \"\" #@param {type:\"string\"}\n",
        "How_is_it_useful = \"\" #@param {type:\"string\"}\n",
        "How_is_it_safe = \"\" #@param {type:\"string\"}"
      ],
      "metadata": {
        "id": "WydD_iDvahnj"
      },
      "execution_count": null,
      "outputs": []
    },
    {
      "cell_type": "code",
      "source": [
        "### Protocol 2\n",
        "Protocol_2_Name = \"\" #@param {type:\"string\"}\n",
        "How_it_works = \"\" #@param {type:\"string\"}\n",
        "How_is_it_useful = \"\" #@param {type:\"string\"}\n",
        "How_is_it_safe = \"\" #@param {type:\"string\"}"
      ],
      "metadata": {
        "id": "jaPsHe1LbWnC"
      },
      "execution_count": null,
      "outputs": []
    },
    {
      "cell_type": "markdown",
      "source": [
        "### Exercise 3\n",
        "\n",
        "Trace out a possible game tree for each of your protocols. Think of how the red team might counter your strategy, and how the blue team might react, and so on. Each tree must have a depth of at least 4 (blue-red-blue-red), and you're encouraged to trace out multiple branches. Be descriptive with the tactics used at each node in the tree. Use the red and blue colors."
      ],
      "metadata": {
        "id": "c6PcoPRlcF8I"
      }
    },
    {
      "cell_type": "markdown",
      "source": [
        "- <font color=\"blue\">Protocol 1 name</font>\n",
        "  - <font color=\"red\">*Expand game tree here*</font>"
      ],
      "metadata": {
        "id": "xsLwkhVqdeca"
      }
    },
    {
      "cell_type": "markdown",
      "source": [
        "- <font color=\"blue\">Protocol 2 name</font>\n",
        "  - <font color=\"red\">*Expand game tree here*</font>"
      ],
      "metadata": {
        "id": "cz2E2VXedoEM"
      }
    }
  ]
}